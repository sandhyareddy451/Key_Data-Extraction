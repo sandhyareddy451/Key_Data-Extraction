{
 "cells": [
  {
   "cell_type": "markdown",
   "id": "a439c85d",
   "metadata": {},
   "source": [
    "#### Sentiment Analysis App"
   ]
  },
  {
   "cell_type": "code",
   "execution_count": 1,
   "id": "dfe1fb6c",
   "metadata": {},
   "outputs": [],
   "source": [
    "# Ex : Our app able to determine the product review is possitive or  negative"
   ]
  },
  {
   "cell_type": "code",
   "execution_count": 2,
   "id": "418c17c4",
   "metadata": {},
   "outputs": [],
   "source": [
    "import os\n",
    "from dotenv import load_dotenv, load_dotenv\n",
    "_= load_dotenv(load_dotenv())\n",
    "groq_api_key = os.environ[\"GROQ_API_KEY\"]"
   ]
  },
  {
   "cell_type": "code",
   "execution_count": 3,
   "id": "8cfc83ae",
   "metadata": {},
   "outputs": [],
   "source": [
    "from langchain_groq import ChatGroq\n",
    "llm = ChatGroq( model =\"openai/gpt-oss-20b\" )"
   ]
  },
  {
   "cell_type": "code",
   "execution_count": 4,
   "id": "4428ffc8",
   "metadata": {},
   "outputs": [
    {
     "name": "stderr",
     "output_type": "stream",
     "text": [
      "c:\\Users\\ell.DESKTOP-F8FOOJM\\anaconda3\\envs\\chatbot\\Lib\\site-packages\\IPython\\core\\interactiveshell.py:3699: LangChainDeprecationWarning: As of langchain-core 0.3.0, LangChain uses pydantic v2 internally. The langchain_core.pydantic_v1 module was a compatibility shim for pydantic v1, and should no longer be used. Please update the code to import from Pydantic directly.\n",
      "\n",
      "For example, replace imports like: `from langchain_core.pydantic_v1 import BaseModel`\n",
      "with: `from pydantic import BaseModel`\n",
      "or the v1 compatibility namespace if you are working in a code base that has not been fully upgraded to pydantic 2 yet. \tfrom pydantic.v1 import BaseModel\n",
      "\n",
      "  exec(code_obj, self.user_global_ns, self.user_ns)\n"
     ]
    }
   ],
   "source": [
    "from langchain_core.prompts import ChatPromptTemplate\n",
    "from langchain_core.pydantic_v1 import BaseModel, Field\n",
    "\n",
    "\n",
    "tagging_prompt = ChatPromptTemplate.from_template(\n",
    "    \n",
    "    \"\"\" Extract the Desired Information from the Following message\n",
    "    \n",
    "    only extract the propertiesmentioned in the 'Classification' function.\n",
    "    passage:\n",
    "    {input}\n",
    "    \n",
    "    \"\"\"\n",
    "    \n",
    ")\n",
    "    \n",
    "class Classification(BaseModel):\n",
    "        \n",
    "    sentiment:str = Field(description = \" The sentiment of hte text\")\n",
    "    political_tendency :str = Field(description = \"The political tendency of the User\")\n",
    "        \n",
    "    language:str = Field(description = \"The language of  the Text written in\")\n",
    "    \n",
    "    "
   ]
  },
  {
   "cell_type": "code",
   "execution_count": 5,
   "id": "fb495de4",
   "metadata": {},
   "outputs": [],
   "source": [
    "chain = tagging_prompt|llm.with_structured_output(Classification)"
   ]
  },
  {
   "cell_type": "code",
   "execution_count": 6,
   "id": "da62bb51",
   "metadata": {},
   "outputs": [],
   "source": [
    "comment = \"Teja Sajja’s Mirai – A Well-Mounted Fantasy Adventure with Standout Moments\""
   ]
  },
  {
   "cell_type": "code",
   "execution_count": 7,
   "id": "89e0d0a9",
   "metadata": {},
   "outputs": [
    {
     "data": {
      "text/plain": [
       "Classification(sentiment='positive', political_tendency='neutral', language='English')"
      ]
     },
     "execution_count": 7,
     "metadata": {},
     "output_type": "execute_result"
    }
   ],
   "source": [
    "chain.invoke({\"input\": comment })"
   ]
  },
  {
   "cell_type": "code",
   "execution_count": null,
   "id": "2dcee96f",
   "metadata": {},
   "outputs": [],
   "source": []
  }
 ],
 "metadata": {
  "kernelspec": {
   "display_name": "chatbot",
   "language": "python",
   "name": "python3"
  },
  "language_info": {
   "codemirror_mode": {
    "name": "ipython",
    "version": 3
   },
   "file_extension": ".py",
   "mimetype": "text/x-python",
   "name": "python",
   "nbconvert_exporter": "python",
   "pygments_lexer": "ipython3",
   "version": "3.11.13"
  }
 },
 "nbformat": 4,
 "nbformat_minor": 5
}
