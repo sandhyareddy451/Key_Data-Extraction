{
 "cells": [
  {
   "cell_type": "markdown",
   "id": "e9d9c21c",
   "metadata": {},
   "source": [
    "### Key Data Extraction\n",
    "\n",
    "We will create the app to extract the structrued information from the unstructured text"
   ]
  },
  {
   "cell_type": "code",
   "execution_count": 1,
   "id": "05222598",
   "metadata": {},
   "outputs": [],
   "source": [
    "import os\n",
    "from dotenv import load_dotenv, load_dotenv\n",
    "_= load_dotenv(load_dotenv())\n",
    "groq_api_key = os.environ[\"GROQ_API_KEY\"]"
   ]
  },
  {
   "cell_type": "code",
   "execution_count": 2,
   "id": "9d022870",
   "metadata": {},
   "outputs": [],
   "source": [
    "from langchain_groq import ChatGroq\n",
    "llm = ChatGroq( model =\"openai/gpt-oss-20b\" )"
   ]
  },
  {
   "cell_type": "markdown",
   "id": "87bb2978",
   "metadata": {},
   "source": [
    "##### With the help of pydentic we will specify the format"
   ]
  },
  {
   "cell_type": "code",
   "execution_count": 4,
   "id": "8d716183",
   "metadata": {},
   "outputs": [],
   "source": [
    "# Define Extracter\n",
    "\n",
    "from langchain_core.prompts import ChatPromptTemplate, MessagesPlaceholder\n",
    "from langchain_core.pydantic_v1 import BaseModel, Field\n",
    "\n",
    "prompt = ChatPromptTemplate.from_messages(\n",
    "    \n",
    "    [\n",
    "        (\n",
    "            \"system\",\n",
    "            \"you are an expert extraction algorithms.casefold\"\n",
    "            \"only extract relavent information\"\n",
    "            \"return null for the attribute's value\"\n",
    "            \n",
    "        ),\n",
    "        \n",
    "        (\"human\",  \"{text}\"),\n",
    "        \n",
    "    ]\n",
    "    \n",
    "    \n",
    "\n",
    ")"
   ]
  },
  {
   "cell_type": "code",
   "execution_count": 5,
   "id": "6cea6a87",
   "metadata": {},
   "outputs": [],
   "source": [
    "chain = prompt|llm.with_structured_output(schema =Person)"
   ]
  },
  {
   "cell_type": "code",
   "execution_count": 6,
   "id": "81b5f2f4",
   "metadata": {},
   "outputs": [],
   "source": [
    "comment = \"I absolutely love this product, it was developed by -sarak sandhya , HYD, vivan eda, USA, Saadvitha, Eda, UK.\""
   ]
  },
  {
   "cell_type": "code",
   "execution_count": 7,
   "id": "622ad88b",
   "metadata": {},
   "outputs": [
    {
     "data": {
      "text/plain": [
       "Person(name='sarak', lastname='sandhya', country='hyd')"
      ]
     },
     "execution_count": 7,
     "metadata": {},
     "output_type": "execute_result"
    }
   ],
   "source": [
    "chain.invoke({\"text\": comment})"
   ]
  },
  {
   "cell_type": "code",
   "execution_count": 8,
   "id": "cd9b4d37",
   "metadata": {},
   "outputs": [],
   "source": [
    "## For multiple names extraction\n",
    "from typing import Optional, List\n",
    "class Person(BaseModel):\n",
    "    \"Information About a Person.\"\n",
    "    \n",
    "    name : Optional[str] = Field(\n",
    "        default = None, description= \"The name of the person\" )\n",
    "    \n",
    "    lastname: Optional[str] =Field(default=None, description = \"The last name of the person\")\n",
    "    \n",
    "    country : Optional[str]= Field(default =None, description = \"The country of the erson if mentioned\")\n",
    "        \n",
    "        \n",
    "class Data (BaseModel):\n",
    "    \"Extracted data about the peoples\"\n",
    "    people :List[Person]\n"
   ]
  },
  {
   "cell_type": "code",
   "execution_count": 11,
   "id": "020feec3",
   "metadata": {},
   "outputs": [],
   "source": [
    "chain = prompt|llm.with_structured_output(schema = Data)"
   ]
  },
  {
   "cell_type": "code",
   "execution_count": 12,
   "id": "7d2d7a86",
   "metadata": {},
   "outputs": [
    {
     "data": {
      "text/plain": [
       "Data(people=[Person(name='sarak', lastname='sandhya', country='HYD'), Person(name='vivan', lastname='eda', country='USA'), Person(name='Saadvitha', lastname='Eda', country='UK')])"
      ]
     },
     "execution_count": 12,
     "metadata": {},
     "output_type": "execute_result"
    }
   ],
   "source": [
    "chain.invoke({\"text\": comment})"
   ]
  },
  {
   "cell_type": "code",
   "execution_count": null,
   "id": "1b5adfbe",
   "metadata": {},
   "outputs": [],
   "source": []
  }
 ],
 "metadata": {
  "kernelspec": {
   "display_name": "chatbot",
   "language": "python",
   "name": "python3"
  },
  "language_info": {
   "codemirror_mode": {
    "name": "ipython",
    "version": 3
   },
   "file_extension": ".py",
   "mimetype": "text/x-python",
   "name": "python",
   "nbconvert_exporter": "python",
   "pygments_lexer": "ipython3",
   "version": "3.11.13"
  }
 },
 "nbformat": 4,
 "nbformat_minor": 5
}
