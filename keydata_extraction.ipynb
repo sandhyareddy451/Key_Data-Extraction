{
 "cells": [
  {
   "cell_type": "markdown",
   "id": "e9d9c21c",
   "metadata": {},
   "source": [
    "### Key Data Extraction\n",
    "\n",
    "We will create the app to extract the structrued information from the unstructured text"
   ]
  },
  {
   "cell_type": "code",
   "execution_count": 1,
   "id": "05222598",
   "metadata": {},
   "outputs": [],
   "source": [
    "import os\n",
    "from dotenv import load_dotenv, load_dotenv\n",
    "_= load_dotenv(load_dotenv())\n",
    "groq_api_key = os.environ[\"GROQ_API_KEY\"]"
   ]
  },
  {
   "cell_type": "code",
   "execution_count": 2,
   "id": "9d022870",
   "metadata": {},
   "outputs": [],
   "source": [
    "from langchain_groq import ChatGroq\n",
    "llm = ChatGroq( model =\"openai/gpt-oss-20b\" )"
   ]
  },
  {
   "cell_type": "markdown",
   "id": "87bb2978",
   "metadata": {},
   "source": [
    "##### With the help of pydentic we will specify the format"
   ]
  },
  {
   "cell_type": "code",
   "execution_count": 3,
   "id": "7a759b02",
   "metadata": {},
   "outputs": [
    {
     "name": "stderr",
     "output_type": "stream",
     "text": [
      "c:\\Users\\ell.DESKTOP-F8FOOJM\\anaconda3\\envs\\chatbot\\Lib\\site-packages\\IPython\\core\\interactiveshell.py:3699: LangChainDeprecationWarning: As of langchain-core 0.3.0, LangChain uses pydantic v2 internally. The langchain_core.pydantic_v1 module was a compatibility shim for pydantic v1, and should no longer be used. Please update the code to import from Pydantic directly.\n",
      "\n",
      "For example, replace imports like: `from langchain_core.pydantic_v1 import BaseModel`\n",
      "with: `from pydantic import BaseModel`\n",
      "or the v1 compatibility namespace if you are working in a code base that has not been fully upgraded to pydantic 2 yet. \tfrom pydantic.v1 import BaseModel\n",
      "\n",
      "  exec(code_obj, self.user_global_ns, self.user_ns)\n"
     ]
    }
   ],
   "source": [
    "from typing import Optional\n",
    "from langchain_core.pydantic_v1 import BaseModel, Field\n",
    "\n",
    "class Person(BaseModel):\n",
    "    \"Information About a Person.\"\n",
    "    \n",
    "    name : Optional[str] = Field(\n",
    "        default = None, description= \"The name of the person\" )\n",
    "    \n",
    "    lastname: Optional[str] =Field(default=None, description = \"The last name of the person\")\n",
    "    \n",
    "    country : Optional[str]= Field(default =None, description = \"The country of the erson if mentioned\")\n",
    "        \n",
    "        \n",
    "        \n",
    "    "
   ]
  },
  {
   "cell_type": "code",
   "execution_count": 4,
   "id": "8d716183",
   "metadata": {},
   "outputs": [],
   "source": [
    "# Define Extracter\n",
    "\n",
    "from langchain_core.prompts import ChatPromptTemplate, MessagesPlaceholder\n",
    "from langchain_core.pydantic_v1 import BaseModel, Field\n",
    "\n",
    "prompt = ChatPromptTemplate.from_messages(\n",
    "    \n",
    "    [\n",
    "        (\n",
    "            \"system\",\n",
    "            \"you are an expert extraction algorithms.casefold\"\n",
    "            \"only extract relavent information\"\n",
    "            \"return null for the attribute's value\"\n",
    "            \n",
    "        ),\n",
    "        \n",
    "        (\"human\",  \"{text}\"),\n",
    "        \n",
    "    ]\n",
    "    \n",
    "    \n",
    "\n",
    ")"
   ]
  },
  {
   "cell_type": "code",
   "execution_count": 5,
   "id": "6cea6a87",
   "metadata": {},
   "outputs": [],
   "source": [
    "chain = prompt|llm.with_structured_output(schema =Person)"
   ]
  },
  {
   "cell_type": "code",
   "execution_count": 6,
   "id": "81b5f2f4",
   "metadata": {},
   "outputs": [],
   "source": [
    "comment = \"I absolutely love this product, it was developed by -sarak sandhya , HYD\""
   ]
  },
  {
   "cell_type": "code",
   "execution_count": 7,
   "id": "622ad88b",
   "metadata": {},
   "outputs": [
    {
     "data": {
      "text/plain": [
       "Person(name='sarak', lastname='sandhya', country='India')"
      ]
     },
     "execution_count": 7,
     "metadata": {},
     "output_type": "execute_result"
    }
   ],
   "source": [
    "chain.invoke({\"text\": comment})"
   ]
  },
  {
   "cell_type": "code",
   "execution_count": null,
   "id": "cd9b4d37",
   "metadata": {},
   "outputs": [],
   "source": [
    "## For multiple names extraction\n",
    "class Person(BaseModel):\n",
    "    \"Information About a Person.\"\n",
    "    \n",
    "    name : Optional[str] = Field(\n",
    "        default = None, description= \"The name of the person\" )\n",
    "    \n",
    "    lastname: Optional[str] =Field(default=None, description = \"The last name of the person\")\n",
    "    \n",
    "    country : Optional[str]= Field(default =None, description = \"The country of the erson if mentioned\")\n",
    "        \n",
    "        \n",
    "class Data (BaseModel):\n",
    "    \"Extracted data about the peoples\"\n",
    "    people :List[Person]\n"
   ]
  },
  {
   "cell_type": "code",
   "execution_count": null,
   "id": "020feec3",
   "metadata": {},
   "outputs": [],
   "source": []
  }
 ],
 "metadata": {
  "kernelspec": {
   "display_name": "chatbot",
   "language": "python",
   "name": "python3"
  },
  "language_info": {
   "codemirror_mode": {
    "name": "ipython",
    "version": 3
   },
   "file_extension": ".py",
   "mimetype": "text/x-python",
   "name": "python",
   "nbconvert_exporter": "python",
   "pygments_lexer": "ipython3",
   "version": "3.11.13"
  }
 },
 "nbformat": 4,
 "nbformat_minor": 5
}
