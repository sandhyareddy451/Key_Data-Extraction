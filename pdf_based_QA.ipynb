{
 "cells": [
  {
   "cell_type": "markdown",
   "id": "5e0a4ec1",
   "metadata": {},
   "source": [
    "#### QA over the PDF file Data\n",
    "\n",
    "We will create a Q and A app . that can answer the questions about the PDF filed"
   ]
  },
  {
   "cell_type": "code",
   "execution_count": 1,
   "id": "bcbd0d32",
   "metadata": {},
   "outputs": [],
   "source": [
    "import os\n",
    "from dotenv import load_dotenv, load_dotenv\n",
    "_= load_dotenv(load_dotenv())\n",
    "groq_api_key = os.environ[\"GROQ_API_KEY\"]"
   ]
  },
  {
   "cell_type": "code",
   "execution_count": 3,
   "id": "e134acc5",
   "metadata": {},
   "outputs": [],
   "source": [
    "from langchain_community.document_loaders import PyPDFLoader\n",
    "file_path = \"data\\stats.pdf\"\n",
    "loader = PyPDFLoader(file_path)\n"
   ]
  },
  {
   "cell_type": "code",
   "execution_count": 4,
   "id": "6607de6d",
   "metadata": {},
   "outputs": [],
   "source": [
    "\n",
    "docs = loader.load()"
   ]
  },
  {
   "cell_type": "code",
   "execution_count": 5,
   "id": "7deb1e49",
   "metadata": {},
   "outputs": [
    {
     "name": "stdout",
     "output_type": "stream",
     "text": [
      "[Document(metadata={'producer': 'Skia/PDF m120 Google Docs Renderer', 'creator': 'PyPDF', 'creationdate': '', 'title': 'Report - Importance and the use of correlation in Statistics', 'source': 'data\\\\stats.pdf', 'total_pages': 3, 'page': 0, 'page_label': '1'}, page_content='ImportanceandtheuseofcorrelationinStatistics\\nIntroduction\\nCorrelationisastatistical measurethat expressestheextent towhichtwovariablesarelinearlyrelated. It isacommontool fordescribingsimplerelationshipswithout makingastatement about causeandeffect.Correlationcoefficientsrangefrom-1to1, withavalueof 0indicatingnolinearrelationshipbetweenthetwovariables, avalueof 1indicatingaperfect positivelinearrelationship, andavalueof -1indicatingaperfectnegativelinearrelationship.\\nCorrelationisimportantinstatisticsbecauseitcanbeusedto\\n1. Identifyrelationshipsbetweenvariables:Correlationcanbeusedtoidentifywhetherthereisarelationshipbetweentwovariables, andif so, whethertherelationshipispositiveornegative. Thisinformationcanbeuseful forunderstandingtherelationshipsbetweendifferent factorsinacomplexsystem.\\n2. Makepredictions:If thereisastrongcorrelationbetweentwovariables, it ispossibletousethevalueof onevariabletopredictthevalueof theothervariable. Thiscanbeuseful formakingpredictionsinavarietyof fields, suchasbusiness, finance, andmedicine.\\n3. Developcausalmodels:Correlationcanbeusedasastartingpoint fordevelopingcausal models, whicharemodelsthatdescribehowchangesinonevariablecausechangesinothervariables. Causal modelscanbeusedtomakemoreaccuratepredictionsandtodevelopinterventionstochangethevaluesofspecificvariables.'), Document(metadata={'producer': 'Skia/PDF m120 Google Docs Renderer', 'creator': 'PyPDF', 'creationdate': '', 'title': 'Report - Importance and the use of correlation in Statistics', 'source': 'data\\\\stats.pdf', 'total_pages': 3, 'page': 1, 'page_label': '2'}, page_content='Correlationisusedinawidevarietyoffieldsincluding\\n1. Business:Correlationcanbeusedtoidentifyrelationshipsbetweendifferent businessvariables, suchassales, advertisingspending, andcustomersatisfaction. Thisinformationcanbeusedtomakebetterbusinessdecisions, suchashowtoallocatemarketingresources.\\n2. Finance:Correlationcanbeusedtoidentifyrelationshipsbetweendifferent financial assets, suchasstocks, bonds, andcommodities.Thisinformationcanbeusedtobuilddiversifiedportfoliosthatreducerisk.\\n3. Medicine:Correlationcanbeusedtoidentifyrelationshipsbetweendifferent medical variables, suchasriskfactorsfordiseasesandtheeffectivenessof treatments. Thisinformationcanbeusedtoimprovetheprevention, diagnosis, andtreatment ofdiseases.\\n4. Psychology:Correlationcanbeusedtoidentifyrelationshipsbetweendifferent psychological variables, suchaspersonalitytraits, cognitiveabilities, andmental disorders. Thisinformationcanbeusedtodevelopbetterpsychological assessmentsandtreatments.\\nHowcorrelationisusedintherealworld\\n1. Amarketingmanagermight usecorrelationtoidentifytherelationshipbetweenadvertisingspendingandsales. Thisinformationcouldbeusedtodecidehowmuchmoneytoallocatetoadvertising.\\n2. Afinancial analyst might usecorrelationtoidentifytherelationshipbetweenthereturnsof different stocks. Thisinformationcouldbe'), Document(metadata={'producer': 'Skia/PDF m120 Google Docs Renderer', 'creator': 'PyPDF', 'creationdate': '', 'title': 'Report - Importance and the use of correlation in Statistics', 'source': 'data\\\\stats.pdf', 'total_pages': 3, 'page': 2, 'page_label': '3'}, page_content='usedtobuildaportfolioof stocksthat isdiversifiedandhasaloweroverall risk.\\n3. Amedical researchermight usecorrelationtoidentifytherelationshipbetweensmokingandlungcancer. Thisinformationcouldbeusedtodeveloppublichealthcampaignstodiscouragesmoking.\\n4. Apsychologist might usecorrelationtoidentifytherelationshipbetweenanxietyanddepression. Thisinformationcouldbeusedtodevelopmoreeffectivetreatmentsforanxietyanddepression.\\nConclusion\\nItisimportanttonotethatcorrelationdoesnotequalcausation.Justbecausetwovariablesarecorrelateddoesnotmeanthatonevariablecausestheother. Forexample,thereisastrongcorrelationbetweenicecreamsalesandsharkattacks.However, thisdoesnotmeanthateatingicecreamcausessharkattacks.Instead,thereislikelyathirdvariable,suchashotweather, thatcausesbothicecreamsalesandsharkattackstoincrease.\\nOverall,correlationisapowerfulstatisticaltoolthatcanbeusedtoidentifyrelationshipsbetweenvariables,makepredictions,anddevelopcausalmodels.Itisusedinawidevarietyoffieldstomakebetterdecisionsandimproveoutcomes.')]\n"
     ]
    }
   ],
   "source": [
    "print((docs))"
   ]
  },
  {
   "cell_type": "markdown",
   "id": "1663d427",
   "metadata": {},
   "source": [
    "#### RAC: Here w can use the RAG. because of customer data"
   ]
  },
  {
   "cell_type": "code",
   "execution_count": 6,
   "id": "6ecea1f5",
   "metadata": {},
   "outputs": [
    {
     "name": "stdout",
     "output_type": "stream",
     "text": [
      "Requirement already satisfied: langchain-chroma in c:\\users\\ell.desktop-f8foojm\\anaconda3\\envs\\chatbot\\lib\\site-packages (0.2.6)\n",
      "Requirement already satisfied: langchain-core>=0.3.76 in c:\\users\\ell.desktop-f8foojm\\anaconda3\\envs\\chatbot\\lib\\site-packages (from langchain-chroma) (0.3.76)\n",
      "Requirement already satisfied: numpy>=1.26.0 in c:\\users\\ell.desktop-f8foojm\\anaconda3\\envs\\chatbot\\lib\\site-packages (from langchain-chroma) (2.3.3)\n",
      "Requirement already satisfied: chromadb>=1.0.20 in c:\\users\\ell.desktop-f8foojm\\anaconda3\\envs\\chatbot\\lib\\site-packages (from langchain-chroma) (1.1.0)\n",
      "Requirement already satisfied: build>=1.0.3 in c:\\users\\ell.desktop-f8foojm\\anaconda3\\envs\\chatbot\\lib\\site-packages (from chromadb>=1.0.20->langchain-chroma) (1.3.0)\n",
      "Requirement already satisfied: pydantic>=1.9 in c:\\users\\ell.desktop-f8foojm\\anaconda3\\envs\\chatbot\\lib\\site-packages (from chromadb>=1.0.20->langchain-chroma) (2.11.7)\n",
      "Requirement already satisfied: pybase64>=1.4.1 in c:\\users\\ell.desktop-f8foojm\\anaconda3\\envs\\chatbot\\lib\\site-packages (from chromadb>=1.0.20->langchain-chroma) (1.4.2)\n",
      "Requirement already satisfied: uvicorn>=0.18.3 in c:\\users\\ell.desktop-f8foojm\\anaconda3\\envs\\chatbot\\lib\\site-packages (from uvicorn[standard]>=0.18.3->chromadb>=1.0.20->langchain-chroma) (0.35.0)\n",
      "Requirement already satisfied: posthog<6.0.0,>=2.4.0 in c:\\users\\ell.desktop-f8foojm\\anaconda3\\envs\\chatbot\\lib\\site-packages (from chromadb>=1.0.20->langchain-chroma) (5.4.0)\n",
      "Requirement already satisfied: typing-extensions>=4.5.0 in c:\\users\\ell.desktop-f8foojm\\anaconda3\\envs\\chatbot\\lib\\site-packages (from chromadb>=1.0.20->langchain-chroma) (4.15.0)\n",
      "Requirement already satisfied: onnxruntime>=1.14.1 in c:\\users\\ell.desktop-f8foojm\\anaconda3\\envs\\chatbot\\lib\\site-packages (from chromadb>=1.0.20->langchain-chroma) (1.22.1)\n",
      "Requirement already satisfied: opentelemetry-api>=1.2.0 in c:\\users\\ell.desktop-f8foojm\\anaconda3\\envs\\chatbot\\lib\\site-packages (from chromadb>=1.0.20->langchain-chroma) (1.37.0)\n",
      "Requirement already satisfied: opentelemetry-exporter-otlp-proto-grpc>=1.2.0 in c:\\users\\ell.desktop-f8foojm\\anaconda3\\envs\\chatbot\\lib\\site-packages (from chromadb>=1.0.20->langchain-chroma) (1.37.0)\n",
      "Requirement already satisfied: opentelemetry-sdk>=1.2.0 in c:\\users\\ell.desktop-f8foojm\\anaconda3\\envs\\chatbot\\lib\\site-packages (from chromadb>=1.0.20->langchain-chroma) (1.37.0)\n",
      "Requirement already satisfied: tokenizers>=0.13.2 in c:\\users\\ell.desktop-f8foojm\\anaconda3\\envs\\chatbot\\lib\\site-packages (from chromadb>=1.0.20->langchain-chroma) (0.22.0)\n",
      "Requirement already satisfied: pypika>=0.48.9 in c:\\users\\ell.desktop-f8foojm\\anaconda3\\envs\\chatbot\\lib\\site-packages (from chromadb>=1.0.20->langchain-chroma) (0.48.9)\n",
      "Requirement already satisfied: tqdm>=4.65.0 in c:\\users\\ell.desktop-f8foojm\\anaconda3\\envs\\chatbot\\lib\\site-packages (from chromadb>=1.0.20->langchain-chroma) (4.67.1)\n",
      "Requirement already satisfied: overrides>=7.3.1 in c:\\users\\ell.desktop-f8foojm\\anaconda3\\envs\\chatbot\\lib\\site-packages (from chromadb>=1.0.20->langchain-chroma) (7.7.0)\n",
      "Requirement already satisfied: importlib-resources in c:\\users\\ell.desktop-f8foojm\\anaconda3\\envs\\chatbot\\lib\\site-packages (from chromadb>=1.0.20->langchain-chroma) (6.5.2)\n",
      "Requirement already satisfied: grpcio>=1.58.0 in c:\\users\\ell.desktop-f8foojm\\anaconda3\\envs\\chatbot\\lib\\site-packages (from chromadb>=1.0.20->langchain-chroma) (1.75.0)\n",
      "Requirement already satisfied: bcrypt>=4.0.1 in c:\\users\\ell.desktop-f8foojm\\anaconda3\\envs\\chatbot\\lib\\site-packages (from chromadb>=1.0.20->langchain-chroma) (4.3.0)\n",
      "Requirement already satisfied: typer>=0.9.0 in c:\\users\\ell.desktop-f8foojm\\anaconda3\\envs\\chatbot\\lib\\site-packages (from chromadb>=1.0.20->langchain-chroma) (0.17.4)\n",
      "Requirement already satisfied: kubernetes>=28.1.0 in c:\\users\\ell.desktop-f8foojm\\anaconda3\\envs\\chatbot\\lib\\site-packages (from chromadb>=1.0.20->langchain-chroma) (33.1.0)\n",
      "Requirement already satisfied: tenacity>=8.2.3 in c:\\users\\ell.desktop-f8foojm\\anaconda3\\envs\\chatbot\\lib\\site-packages (from chromadb>=1.0.20->langchain-chroma) (9.1.2)\n",
      "Requirement already satisfied: pyyaml>=6.0.0 in c:\\users\\ell.desktop-f8foojm\\anaconda3\\envs\\chatbot\\lib\\site-packages (from chromadb>=1.0.20->langchain-chroma) (6.0.2)\n",
      "Requirement already satisfied: mmh3>=4.0.1 in c:\\users\\ell.desktop-f8foojm\\anaconda3\\envs\\chatbot\\lib\\site-packages (from chromadb>=1.0.20->langchain-chroma) (5.2.0)\n",
      "Requirement already satisfied: orjson>=3.9.12 in c:\\users\\ell.desktop-f8foojm\\anaconda3\\envs\\chatbot\\lib\\site-packages (from chromadb>=1.0.20->langchain-chroma) (3.11.3)\n",
      "Requirement already satisfied: httpx>=0.27.0 in c:\\users\\ell.desktop-f8foojm\\anaconda3\\envs\\chatbot\\lib\\site-packages (from chromadb>=1.0.20->langchain-chroma) (0.28.1)\n",
      "Requirement already satisfied: rich>=10.11.0 in c:\\users\\ell.desktop-f8foojm\\anaconda3\\envs\\chatbot\\lib\\site-packages (from chromadb>=1.0.20->langchain-chroma) (14.1.0)\n",
      "Requirement already satisfied: jsonschema>=4.19.0 in c:\\users\\ell.desktop-f8foojm\\anaconda3\\envs\\chatbot\\lib\\site-packages (from chromadb>=1.0.20->langchain-chroma) (4.25.1)\n",
      "Requirement already satisfied: requests<3.0,>=2.7 in c:\\users\\ell.desktop-f8foojm\\anaconda3\\envs\\chatbot\\lib\\site-packages (from posthog<6.0.0,>=2.4.0->chromadb>=1.0.20->langchain-chroma) (2.32.5)\n",
      "Requirement already satisfied: six>=1.5 in c:\\users\\ell.desktop-f8foojm\\anaconda3\\envs\\chatbot\\lib\\site-packages (from posthog<6.0.0,>=2.4.0->chromadb>=1.0.20->langchain-chroma) (1.17.0)\n",
      "Requirement already satisfied: python-dateutil>=2.2 in c:\\users\\ell.desktop-f8foojm\\anaconda3\\envs\\chatbot\\lib\\site-packages (from posthog<6.0.0,>=2.4.0->chromadb>=1.0.20->langchain-chroma) (2.9.0.post0)\n",
      "Requirement already satisfied: backoff>=1.10.0 in c:\\users\\ell.desktop-f8foojm\\anaconda3\\envs\\chatbot\\lib\\site-packages (from posthog<6.0.0,>=2.4.0->chromadb>=1.0.20->langchain-chroma) (2.2.1)\n",
      "Requirement already satisfied: distro>=1.5.0 in c:\\users\\ell.desktop-f8foojm\\anaconda3\\envs\\chatbot\\lib\\site-packages (from posthog<6.0.0,>=2.4.0->chromadb>=1.0.20->langchain-chroma) (1.9.0)\n",
      "Requirement already satisfied: charset_normalizer<4,>=2 in c:\\users\\ell.desktop-f8foojm\\anaconda3\\envs\\chatbot\\lib\\site-packages (from requests<3.0,>=2.7->posthog<6.0.0,>=2.4.0->chromadb>=1.0.20->langchain-chroma) (3.4.3)\n",
      "Requirement already satisfied: idna<4,>=2.5 in c:\\users\\ell.desktop-f8foojm\\anaconda3\\envs\\chatbot\\lib\\site-packages (from requests<3.0,>=2.7->posthog<6.0.0,>=2.4.0->chromadb>=1.0.20->langchain-chroma) (3.10)\n",
      "Requirement already satisfied: urllib3<3,>=1.21.1 in c:\\users\\ell.desktop-f8foojm\\anaconda3\\envs\\chatbot\\lib\\site-packages (from requests<3.0,>=2.7->posthog<6.0.0,>=2.4.0->chromadb>=1.0.20->langchain-chroma) (2.5.0)\n",
      "Requirement already satisfied: certifi>=2017.4.17 in c:\\users\\ell.desktop-f8foojm\\anaconda3\\envs\\chatbot\\lib\\site-packages (from requests<3.0,>=2.7->posthog<6.0.0,>=2.4.0->chromadb>=1.0.20->langchain-chroma) (2025.8.3)\n",
      "Requirement already satisfied: packaging>=19.1 in c:\\users\\ell.desktop-f8foojm\\anaconda3\\envs\\chatbot\\lib\\site-packages (from build>=1.0.3->chromadb>=1.0.20->langchain-chroma) (25.0)\n",
      "Requirement already satisfied: pyproject_hooks in c:\\users\\ell.desktop-f8foojm\\anaconda3\\envs\\chatbot\\lib\\site-packages (from build>=1.0.3->chromadb>=1.0.20->langchain-chroma) (1.2.0)\n",
      "Requirement already satisfied: colorama in c:\\users\\ell.desktop-f8foojm\\anaconda3\\envs\\chatbot\\lib\\site-packages (from build>=1.0.3->chromadb>=1.0.20->langchain-chroma) (0.4.6)\n",
      "Requirement already satisfied: anyio in c:\\users\\ell.desktop-f8foojm\\anaconda3\\envs\\chatbot\\lib\\site-packages (from httpx>=0.27.0->chromadb>=1.0.20->langchain-chroma) (4.10.0)\n",
      "Requirement already satisfied: httpcore==1.* in c:\\users\\ell.desktop-f8foojm\\anaconda3\\envs\\chatbot\\lib\\site-packages (from httpx>=0.27.0->chromadb>=1.0.20->langchain-chroma) (1.0.9)\n",
      "Requirement already satisfied: h11>=0.16 in c:\\users\\ell.desktop-f8foojm\\anaconda3\\envs\\chatbot\\lib\\site-packages (from httpcore==1.*->httpx>=0.27.0->chromadb>=1.0.20->langchain-chroma) (0.16.0)\n",
      "Requirement already satisfied: attrs>=22.2.0 in c:\\users\\ell.desktop-f8foojm\\anaconda3\\envs\\chatbot\\lib\\site-packages (from jsonschema>=4.19.0->chromadb>=1.0.20->langchain-chroma) (25.3.0)\n",
      "Requirement already satisfied: jsonschema-specifications>=2023.03.6 in c:\\users\\ell.desktop-f8foojm\\anaconda3\\envs\\chatbot\\lib\\site-packages (from jsonschema>=4.19.0->chromadb>=1.0.20->langchain-chroma) (2025.9.1)\n",
      "Requirement already satisfied: referencing>=0.28.4 in c:\\users\\ell.desktop-f8foojm\\anaconda3\\envs\\chatbot\\lib\\site-packages (from jsonschema>=4.19.0->chromadb>=1.0.20->langchain-chroma) (0.36.2)\n",
      "Requirement already satisfied: rpds-py>=0.7.1 in c:\\users\\ell.desktop-f8foojm\\anaconda3\\envs\\chatbot\\lib\\site-packages (from jsonschema>=4.19.0->chromadb>=1.0.20->langchain-chroma) (0.27.1)\n",
      "Requirement already satisfied: google-auth>=1.0.1 in c:\\users\\ell.desktop-f8foojm\\anaconda3\\envs\\chatbot\\lib\\site-packages (from kubernetes>=28.1.0->chromadb>=1.0.20->langchain-chroma) (2.40.3)\n",
      "Requirement already satisfied: websocket-client!=0.40.0,!=0.41.*,!=0.42.*,>=0.32.0 in c:\\users\\ell.desktop-f8foojm\\anaconda3\\envs\\chatbot\\lib\\site-packages (from kubernetes>=28.1.0->chromadb>=1.0.20->langchain-chroma) (1.8.0)\n",
      "Requirement already satisfied: requests-oauthlib in c:\\users\\ell.desktop-f8foojm\\anaconda3\\envs\\chatbot\\lib\\site-packages (from kubernetes>=28.1.0->chromadb>=1.0.20->langchain-chroma) (2.0.0)\n",
      "Requirement already satisfied: oauthlib>=3.2.2 in c:\\users\\ell.desktop-f8foojm\\anaconda3\\envs\\chatbot\\lib\\site-packages (from kubernetes>=28.1.0->chromadb>=1.0.20->langchain-chroma) (3.3.1)\n",
      "Requirement already satisfied: durationpy>=0.7 in c:\\users\\ell.desktop-f8foojm\\anaconda3\\envs\\chatbot\\lib\\site-packages (from kubernetes>=28.1.0->chromadb>=1.0.20->langchain-chroma) (0.10)\n",
      "Requirement already satisfied: cachetools<6.0,>=2.0.0 in c:\\users\\ell.desktop-f8foojm\\anaconda3\\envs\\chatbot\\lib\\site-packages (from google-auth>=1.0.1->kubernetes>=28.1.0->chromadb>=1.0.20->langchain-chroma) (5.5.2)\n",
      "Requirement already satisfied: pyasn1-modules>=0.2.1 in c:\\users\\ell.desktop-f8foojm\\anaconda3\\envs\\chatbot\\lib\\site-packages (from google-auth>=1.0.1->kubernetes>=28.1.0->chromadb>=1.0.20->langchain-chroma) (0.4.2)\n",
      "Requirement already satisfied: rsa<5,>=3.1.4 in c:\\users\\ell.desktop-f8foojm\\anaconda3\\envs\\chatbot\\lib\\site-packages (from google-auth>=1.0.1->kubernetes>=28.1.0->chromadb>=1.0.20->langchain-chroma) (4.9.1)\n",
      "Requirement already satisfied: pyasn1>=0.1.3 in c:\\users\\ell.desktop-f8foojm\\anaconda3\\envs\\chatbot\\lib\\site-packages (from rsa<5,>=3.1.4->google-auth>=1.0.1->kubernetes>=28.1.0->chromadb>=1.0.20->langchain-chroma) (0.6.1)\n",
      "Requirement already satisfied: langsmith>=0.3.45 in c:\\users\\ell.desktop-f8foojm\\anaconda3\\envs\\chatbot\\lib\\site-packages (from langchain-core>=0.3.76->langchain-chroma) (0.4.27)\n",
      "Requirement already satisfied: jsonpatch<2.0,>=1.33 in c:\\users\\ell.desktop-f8foojm\\anaconda3\\envs\\chatbot\\lib\\site-packages (from langchain-core>=0.3.76->langchain-chroma) (1.33)\n",
      "Requirement already satisfied: jsonpointer>=1.9 in c:\\users\\ell.desktop-f8foojm\\anaconda3\\envs\\chatbot\\lib\\site-packages (from jsonpatch<2.0,>=1.33->langchain-core>=0.3.76->langchain-chroma) (3.0.0)\n",
      "Requirement already satisfied: requests-toolbelt>=1.0.0 in c:\\users\\ell.desktop-f8foojm\\anaconda3\\envs\\chatbot\\lib\\site-packages (from langsmith>=0.3.45->langchain-core>=0.3.76->langchain-chroma) (1.0.0)\n",
      "Requirement already satisfied: zstandard>=0.23.0 in c:\\users\\ell.desktop-f8foojm\\anaconda3\\envs\\chatbot\\lib\\site-packages (from langsmith>=0.3.45->langchain-core>=0.3.76->langchain-chroma) (0.24.0)\n",
      "Requirement already satisfied: annotated-types>=0.6.0 in c:\\users\\ell.desktop-f8foojm\\anaconda3\\envs\\chatbot\\lib\\site-packages (from pydantic>=1.9->chromadb>=1.0.20->langchain-chroma) (0.7.0)\n",
      "Requirement already satisfied: pydantic-core==2.33.2 in c:\\users\\ell.desktop-f8foojm\\anaconda3\\envs\\chatbot\\lib\\site-packages (from pydantic>=1.9->chromadb>=1.0.20->langchain-chroma) (2.33.2)\n",
      "Requirement already satisfied: typing-inspection>=0.4.0 in c:\\users\\ell.desktop-f8foojm\\anaconda3\\envs\\chatbot\\lib\\site-packages (from pydantic>=1.9->chromadb>=1.0.20->langchain-chroma) (0.4.1)\n",
      "Requirement already satisfied: coloredlogs in c:\\users\\ell.desktop-f8foojm\\anaconda3\\envs\\chatbot\\lib\\site-packages (from onnxruntime>=1.14.1->chromadb>=1.0.20->langchain-chroma) (15.0.1)\n",
      "Requirement already satisfied: flatbuffers in c:\\users\\ell.desktop-f8foojm\\anaconda3\\envs\\chatbot\\lib\\site-packages (from onnxruntime>=1.14.1->chromadb>=1.0.20->langchain-chroma) (25.2.10)\n",
      "Requirement already satisfied: protobuf in c:\\users\\ell.desktop-f8foojm\\anaconda3\\envs\\chatbot\\lib\\site-packages (from onnxruntime>=1.14.1->chromadb>=1.0.20->langchain-chroma) (6.32.1)\n",
      "Requirement already satisfied: sympy in c:\\users\\ell.desktop-f8foojm\\anaconda3\\envs\\chatbot\\lib\\site-packages (from onnxruntime>=1.14.1->chromadb>=1.0.20->langchain-chroma) (1.14.0)\n",
      "Requirement already satisfied: importlib-metadata<8.8.0,>=6.0 in c:\\users\\ell.desktop-f8foojm\\anaconda3\\envs\\chatbot\\lib\\site-packages (from opentelemetry-api>=1.2.0->chromadb>=1.0.20->langchain-chroma) (8.7.0)\n",
      "Requirement already satisfied: zipp>=3.20 in c:\\users\\ell.desktop-f8foojm\\anaconda3\\envs\\chatbot\\lib\\site-packages (from importlib-metadata<8.8.0,>=6.0->opentelemetry-api>=1.2.0->chromadb>=1.0.20->langchain-chroma) (3.23.0)\n",
      "Requirement already satisfied: googleapis-common-protos~=1.57 in c:\\users\\ell.desktop-f8foojm\\anaconda3\\envs\\chatbot\\lib\\site-packages (from opentelemetry-exporter-otlp-proto-grpc>=1.2.0->chromadb>=1.0.20->langchain-chroma) (1.70.0)\n",
      "Requirement already satisfied: opentelemetry-exporter-otlp-proto-common==1.37.0 in c:\\users\\ell.desktop-f8foojm\\anaconda3\\envs\\chatbot\\lib\\site-packages (from opentelemetry-exporter-otlp-proto-grpc>=1.2.0->chromadb>=1.0.20->langchain-chroma) (1.37.0)\n",
      "Requirement already satisfied: opentelemetry-proto==1.37.0 in c:\\users\\ell.desktop-f8foojm\\anaconda3\\envs\\chatbot\\lib\\site-packages (from opentelemetry-exporter-otlp-proto-grpc>=1.2.0->chromadb>=1.0.20->langchain-chroma) (1.37.0)\n",
      "Requirement already satisfied: opentelemetry-semantic-conventions==0.58b0 in c:\\users\\ell.desktop-f8foojm\\anaconda3\\envs\\chatbot\\lib\\site-packages (from opentelemetry-sdk>=1.2.0->chromadb>=1.0.20->langchain-chroma) (0.58b0)\n",
      "Requirement already satisfied: markdown-it-py>=2.2.0 in c:\\users\\ell.desktop-f8foojm\\anaconda3\\envs\\chatbot\\lib\\site-packages (from rich>=10.11.0->chromadb>=1.0.20->langchain-chroma) (4.0.0)\n",
      "Requirement already satisfied: pygments<3.0.0,>=2.13.0 in c:\\users\\ell.desktop-f8foojm\\anaconda3\\envs\\chatbot\\lib\\site-packages (from rich>=10.11.0->chromadb>=1.0.20->langchain-chroma) (2.19.2)\n",
      "Requirement already satisfied: mdurl~=0.1 in c:\\users\\ell.desktop-f8foojm\\anaconda3\\envs\\chatbot\\lib\\site-packages (from markdown-it-py>=2.2.0->rich>=10.11.0->chromadb>=1.0.20->langchain-chroma) (0.1.2)\n",
      "Requirement already satisfied: huggingface-hub<1.0,>=0.16.4 in c:\\users\\ell.desktop-f8foojm\\anaconda3\\envs\\chatbot\\lib\\site-packages (from tokenizers>=0.13.2->chromadb>=1.0.20->langchain-chroma) (0.35.0)\n",
      "Requirement already satisfied: filelock in c:\\users\\ell.desktop-f8foojm\\anaconda3\\envs\\chatbot\\lib\\site-packages (from huggingface-hub<1.0,>=0.16.4->tokenizers>=0.13.2->chromadb>=1.0.20->langchain-chroma) (3.19.1)\n",
      "Requirement already satisfied: fsspec>=2023.5.0 in c:\\users\\ell.desktop-f8foojm\\anaconda3\\envs\\chatbot\\lib\\site-packages (from huggingface-hub<1.0,>=0.16.4->tokenizers>=0.13.2->chromadb>=1.0.20->langchain-chroma) (2025.9.0)\n",
      "Requirement already satisfied: click>=8.0.0 in c:\\users\\ell.desktop-f8foojm\\anaconda3\\envs\\chatbot\\lib\\site-packages (from typer>=0.9.0->chromadb>=1.0.20->langchain-chroma) (8.2.1)\n",
      "Requirement already satisfied: shellingham>=1.3.0 in c:\\users\\ell.desktop-f8foojm\\anaconda3\\envs\\chatbot\\lib\\site-packages (from typer>=0.9.0->chromadb>=1.0.20->langchain-chroma) (1.5.4)\n",
      "Requirement already satisfied: httptools>=0.6.3 in c:\\users\\ell.desktop-f8foojm\\anaconda3\\envs\\chatbot\\lib\\site-packages (from uvicorn[standard]>=0.18.3->chromadb>=1.0.20->langchain-chroma) (0.6.4)\n",
      "Requirement already satisfied: python-dotenv>=0.13 in c:\\users\\ell.desktop-f8foojm\\anaconda3\\envs\\chatbot\\lib\\site-packages (from uvicorn[standard]>=0.18.3->chromadb>=1.0.20->langchain-chroma) (1.1.1)\n",
      "Requirement already satisfied: watchfiles>=0.13 in c:\\users\\ell.desktop-f8foojm\\anaconda3\\envs\\chatbot\\lib\\site-packages (from uvicorn[standard]>=0.18.3->chromadb>=1.0.20->langchain-chroma) (1.1.0)\n",
      "Requirement already satisfied: websockets>=10.4 in c:\\users\\ell.desktop-f8foojm\\anaconda3\\envs\\chatbot\\lib\\site-packages (from uvicorn[standard]>=0.18.3->chromadb>=1.0.20->langchain-chroma) (15.0.1)\n",
      "Requirement already satisfied: sniffio>=1.1 in c:\\users\\ell.desktop-f8foojm\\anaconda3\\envs\\chatbot\\lib\\site-packages (from anyio->httpx>=0.27.0->chromadb>=1.0.20->langchain-chroma) (1.3.1)\n",
      "Requirement already satisfied: humanfriendly>=9.1 in c:\\users\\ell.desktop-f8foojm\\anaconda3\\envs\\chatbot\\lib\\site-packages (from coloredlogs->onnxruntime>=1.14.1->chromadb>=1.0.20->langchain-chroma) (10.0)\n",
      "Requirement already satisfied: pyreadline3 in c:\\users\\ell.desktop-f8foojm\\anaconda3\\envs\\chatbot\\lib\\site-packages (from humanfriendly>=9.1->coloredlogs->onnxruntime>=1.14.1->chromadb>=1.0.20->langchain-chroma) (3.5.4)\n",
      "Requirement already satisfied: mpmath<1.4,>=1.1.0 in c:\\users\\ell.desktop-f8foojm\\anaconda3\\envs\\chatbot\\lib\\site-packages (from sympy->onnxruntime>=1.14.1->chromadb>=1.0.20->langchain-chroma) (1.3.0)\n",
      "Note: you may need to restart the kernel to use updated packages.\n"
     ]
    }
   ],
   "source": [
    "pip install langchain-chroma"
   ]
  },
  {
   "cell_type": "code",
   "execution_count": 7,
   "id": "9bdb6b40",
   "metadata": {},
   "outputs": [],
   "source": [
    "from langchain_chroma import Chroma"
   ]
  },
  {
   "cell_type": "code",
   "execution_count": 8,
   "id": "055f83f9",
   "metadata": {},
   "outputs": [
    {
     "name": "stdout",
     "output_type": "stream",
     "text": [
      "Requirement already satisfied: langchain-huggingface in c:\\users\\ell.desktop-f8foojm\\anaconda3\\envs\\chatbot\\lib\\site-packages (0.3.1)\n",
      "Requirement already satisfied: sentence-transformers in c:\\users\\ell.desktop-f8foojm\\anaconda3\\envs\\chatbot\\lib\\site-packages (5.1.0)\n",
      "Requirement already satisfied: langchain-core<1.0.0,>=0.3.70 in c:\\users\\ell.desktop-f8foojm\\anaconda3\\envs\\chatbot\\lib\\site-packages (from langchain-huggingface) (0.3.76)\n",
      "Requirement already satisfied: tokenizers>=0.19.1 in c:\\users\\ell.desktop-f8foojm\\anaconda3\\envs\\chatbot\\lib\\site-packages (from langchain-huggingface) (0.22.0)\n",
      "Requirement already satisfied: huggingface-hub>=0.33.4 in c:\\users\\ell.desktop-f8foojm\\anaconda3\\envs\\chatbot\\lib\\site-packages (from langchain-huggingface) (0.35.0)\n",
      "Requirement already satisfied: langsmith>=0.3.45 in c:\\users\\ell.desktop-f8foojm\\anaconda3\\envs\\chatbot\\lib\\site-packages (from langchain-core<1.0.0,>=0.3.70->langchain-huggingface) (0.4.27)\n",
      "Requirement already satisfied: tenacity!=8.4.0,<10.0.0,>=8.1.0 in c:\\users\\ell.desktop-f8foojm\\anaconda3\\envs\\chatbot\\lib\\site-packages (from langchain-core<1.0.0,>=0.3.70->langchain-huggingface) (9.1.2)\n",
      "Requirement already satisfied: jsonpatch<2.0,>=1.33 in c:\\users\\ell.desktop-f8foojm\\anaconda3\\envs\\chatbot\\lib\\site-packages (from langchain-core<1.0.0,>=0.3.70->langchain-huggingface) (1.33)\n",
      "Requirement already satisfied: PyYAML>=5.3 in c:\\users\\ell.desktop-f8foojm\\anaconda3\\envs\\chatbot\\lib\\site-packages (from langchain-core<1.0.0,>=0.3.70->langchain-huggingface) (6.0.2)\n",
      "Requirement already satisfied: typing-extensions>=4.7 in c:\\users\\ell.desktop-f8foojm\\anaconda3\\envs\\chatbot\\lib\\site-packages (from langchain-core<1.0.0,>=0.3.70->langchain-huggingface) (4.15.0)\n",
      "Requirement already satisfied: packaging>=23.2 in c:\\users\\ell.desktop-f8foojm\\anaconda3\\envs\\chatbot\\lib\\site-packages (from langchain-core<1.0.0,>=0.3.70->langchain-huggingface) (25.0)\n",
      "Requirement already satisfied: pydantic>=2.7.4 in c:\\users\\ell.desktop-f8foojm\\anaconda3\\envs\\chatbot\\lib\\site-packages (from langchain-core<1.0.0,>=0.3.70->langchain-huggingface) (2.11.7)\n",
      "Requirement already satisfied: jsonpointer>=1.9 in c:\\users\\ell.desktop-f8foojm\\anaconda3\\envs\\chatbot\\lib\\site-packages (from jsonpatch<2.0,>=1.33->langchain-core<1.0.0,>=0.3.70->langchain-huggingface) (3.0.0)\n",
      "Requirement already satisfied: transformers<5.0.0,>=4.41.0 in c:\\users\\ell.desktop-f8foojm\\anaconda3\\envs\\chatbot\\lib\\site-packages (from sentence-transformers) (4.56.1)\n",
      "Requirement already satisfied: tqdm in c:\\users\\ell.desktop-f8foojm\\anaconda3\\envs\\chatbot\\lib\\site-packages (from sentence-transformers) (4.67.1)\n",
      "Requirement already satisfied: torch>=1.11.0 in c:\\users\\ell.desktop-f8foojm\\anaconda3\\envs\\chatbot\\lib\\site-packages (from sentence-transformers) (2.8.0)\n",
      "Requirement already satisfied: scikit-learn in c:\\users\\ell.desktop-f8foojm\\anaconda3\\envs\\chatbot\\lib\\site-packages (from sentence-transformers) (1.7.2)\n",
      "Requirement already satisfied: scipy in c:\\users\\ell.desktop-f8foojm\\anaconda3\\envs\\chatbot\\lib\\site-packages (from sentence-transformers) (1.16.2)\n",
      "Requirement already satisfied: Pillow in c:\\users\\ell.desktop-f8foojm\\anaconda3\\envs\\chatbot\\lib\\site-packages (from sentence-transformers) (11.3.0)\n",
      "Requirement already satisfied: filelock in c:\\users\\ell.desktop-f8foojm\\anaconda3\\envs\\chatbot\\lib\\site-packages (from transformers<5.0.0,>=4.41.0->sentence-transformers) (3.19.1)\n",
      "Requirement already satisfied: numpy>=1.17 in c:\\users\\ell.desktop-f8foojm\\anaconda3\\envs\\chatbot\\lib\\site-packages (from transformers<5.0.0,>=4.41.0->sentence-transformers) (2.3.3)\n",
      "Requirement already satisfied: regex!=2019.12.17 in c:\\users\\ell.desktop-f8foojm\\anaconda3\\envs\\chatbot\\lib\\site-packages (from transformers<5.0.0,>=4.41.0->sentence-transformers) (2025.9.1)\n",
      "Requirement already satisfied: requests in c:\\users\\ell.desktop-f8foojm\\anaconda3\\envs\\chatbot\\lib\\site-packages (from transformers<5.0.0,>=4.41.0->sentence-transformers) (2.32.5)\n",
      "Requirement already satisfied: safetensors>=0.4.3 in c:\\users\\ell.desktop-f8foojm\\anaconda3\\envs\\chatbot\\lib\\site-packages (from transformers<5.0.0,>=4.41.0->sentence-transformers) (0.6.2)\n",
      "Requirement already satisfied: fsspec>=2023.5.0 in c:\\users\\ell.desktop-f8foojm\\anaconda3\\envs\\chatbot\\lib\\site-packages (from huggingface-hub>=0.33.4->langchain-huggingface) (2025.9.0)\n",
      "Requirement already satisfied: httpx<1,>=0.23.0 in c:\\users\\ell.desktop-f8foojm\\anaconda3\\envs\\chatbot\\lib\\site-packages (from langsmith>=0.3.45->langchain-core<1.0.0,>=0.3.70->langchain-huggingface) (0.28.1)\n",
      "Requirement already satisfied: orjson>=3.9.14 in c:\\users\\ell.desktop-f8foojm\\anaconda3\\envs\\chatbot\\lib\\site-packages (from langsmith>=0.3.45->langchain-core<1.0.0,>=0.3.70->langchain-huggingface) (3.11.3)\n",
      "Requirement already satisfied: requests-toolbelt>=1.0.0 in c:\\users\\ell.desktop-f8foojm\\anaconda3\\envs\\chatbot\\lib\\site-packages (from langsmith>=0.3.45->langchain-core<1.0.0,>=0.3.70->langchain-huggingface) (1.0.0)\n",
      "Requirement already satisfied: zstandard>=0.23.0 in c:\\users\\ell.desktop-f8foojm\\anaconda3\\envs\\chatbot\\lib\\site-packages (from langsmith>=0.3.45->langchain-core<1.0.0,>=0.3.70->langchain-huggingface) (0.24.0)\n",
      "Requirement already satisfied: anyio in c:\\users\\ell.desktop-f8foojm\\anaconda3\\envs\\chatbot\\lib\\site-packages (from httpx<1,>=0.23.0->langsmith>=0.3.45->langchain-core<1.0.0,>=0.3.70->langchain-huggingface) (4.10.0)\n",
      "Requirement already satisfied: certifi in c:\\users\\ell.desktop-f8foojm\\anaconda3\\envs\\chatbot\\lib\\site-packages (from httpx<1,>=0.23.0->langsmith>=0.3.45->langchain-core<1.0.0,>=0.3.70->langchain-huggingface) (2025.8.3)\n",
      "Requirement already satisfied: httpcore==1.* in c:\\users\\ell.desktop-f8foojm\\anaconda3\\envs\\chatbot\\lib\\site-packages (from httpx<1,>=0.23.0->langsmith>=0.3.45->langchain-core<1.0.0,>=0.3.70->langchain-huggingface) (1.0.9)\n",
      "Requirement already satisfied: idna in c:\\users\\ell.desktop-f8foojm\\anaconda3\\envs\\chatbot\\lib\\site-packages (from httpx<1,>=0.23.0->langsmith>=0.3.45->langchain-core<1.0.0,>=0.3.70->langchain-huggingface) (3.10)\n",
      "Requirement already satisfied: h11>=0.16 in c:\\users\\ell.desktop-f8foojm\\anaconda3\\envs\\chatbot\\lib\\site-packages (from httpcore==1.*->httpx<1,>=0.23.0->langsmith>=0.3.45->langchain-core<1.0.0,>=0.3.70->langchain-huggingface) (0.16.0)\n",
      "Requirement already satisfied: annotated-types>=0.6.0 in c:\\users\\ell.desktop-f8foojm\\anaconda3\\envs\\chatbot\\lib\\site-packages (from pydantic>=2.7.4->langchain-core<1.0.0,>=0.3.70->langchain-huggingface) (0.7.0)\n",
      "Requirement already satisfied: pydantic-core==2.33.2 in c:\\users\\ell.desktop-f8foojm\\anaconda3\\envs\\chatbot\\lib\\site-packages (from pydantic>=2.7.4->langchain-core<1.0.0,>=0.3.70->langchain-huggingface) (2.33.2)\n",
      "Requirement already satisfied: typing-inspection>=0.4.0 in c:\\users\\ell.desktop-f8foojm\\anaconda3\\envs\\chatbot\\lib\\site-packages (from pydantic>=2.7.4->langchain-core<1.0.0,>=0.3.70->langchain-huggingface) (0.4.1)\n",
      "Requirement already satisfied: charset_normalizer<4,>=2 in c:\\users\\ell.desktop-f8foojm\\anaconda3\\envs\\chatbot\\lib\\site-packages (from requests->transformers<5.0.0,>=4.41.0->sentence-transformers) (3.4.3)\n",
      "Requirement already satisfied: urllib3<3,>=1.21.1 in c:\\users\\ell.desktop-f8foojm\\anaconda3\\envs\\chatbot\\lib\\site-packages (from requests->transformers<5.0.0,>=4.41.0->sentence-transformers) (2.5.0)\n",
      "Requirement already satisfied: sympy>=1.13.3 in c:\\users\\ell.desktop-f8foojm\\anaconda3\\envs\\chatbot\\lib\\site-packages (from torch>=1.11.0->sentence-transformers) (1.14.0)\n",
      "Requirement already satisfied: networkx in c:\\users\\ell.desktop-f8foojm\\anaconda3\\envs\\chatbot\\lib\\site-packages (from torch>=1.11.0->sentence-transformers) (3.5)\n",
      "Requirement already satisfied: jinja2 in c:\\users\\ell.desktop-f8foojm\\anaconda3\\envs\\chatbot\\lib\\site-packages (from torch>=1.11.0->sentence-transformers) (3.1.6)\n",
      "Requirement already satisfied: mpmath<1.4,>=1.1.0 in c:\\users\\ell.desktop-f8foojm\\anaconda3\\envs\\chatbot\\lib\\site-packages (from sympy>=1.13.3->torch>=1.11.0->sentence-transformers) (1.3.0)\n",
      "Requirement already satisfied: colorama in c:\\users\\ell.desktop-f8foojm\\anaconda3\\envs\\chatbot\\lib\\site-packages (from tqdm->sentence-transformers) (0.4.6)\n",
      "Requirement already satisfied: sniffio>=1.1 in c:\\users\\ell.desktop-f8foojm\\anaconda3\\envs\\chatbot\\lib\\site-packages (from anyio->httpx<1,>=0.23.0->langsmith>=0.3.45->langchain-core<1.0.0,>=0.3.70->langchain-huggingface) (1.3.1)\n",
      "Requirement already satisfied: MarkupSafe>=2.0 in c:\\users\\ell.desktop-f8foojm\\anaconda3\\envs\\chatbot\\lib\\site-packages (from jinja2->torch>=1.11.0->sentence-transformers) (3.0.2)\n",
      "Requirement already satisfied: joblib>=1.2.0 in c:\\users\\ell.desktop-f8foojm\\anaconda3\\envs\\chatbot\\lib\\site-packages (from scikit-learn->sentence-transformers) (1.5.2)\n",
      "Requirement already satisfied: threadpoolctl>=3.1.0 in c:\\users\\ell.desktop-f8foojm\\anaconda3\\envs\\chatbot\\lib\\site-packages (from scikit-learn->sentence-transformers) (3.6.0)\n"
     ]
    }
   ],
   "source": [
    "!pip install langchain-huggingface sentence-transformers"
   ]
  },
  {
   "cell_type": "code",
   "execution_count": 9,
   "id": "22b848ff",
   "metadata": {},
   "outputs": [],
   "source": [
    "\n",
    "from langchain_huggingface.embeddings import HuggingFaceEmbeddings\n",
    "embeddings = HuggingFaceEmbeddings(model_name=\"sentence-transformers/all-mpnet-base-v2\")"
   ]
  },
  {
   "cell_type": "code",
   "execution_count": 10,
   "id": "67da3ad6",
   "metadata": {},
   "outputs": [],
   "source": [
    "from langchain_text_splitters import RecursiveCharacterTextSplitter\n",
    "\n",
    "text_splitter = RecursiveCharacterTextSplitter(chunk_size = 1000, chunk_overlap = 200)\n",
    "\n",
    "splits = text_splitter.split_documents(docs)\n",
    "\n",
    "vector_store = Chroma.from_documents(documents = splits, embedding=embeddings)"
   ]
  },
  {
   "cell_type": "code",
   "execution_count": 11,
   "id": "c528ad0d",
   "metadata": {},
   "outputs": [],
   "source": [
    "retriever =  vector_store.as_retriever()"
   ]
  },
  {
   "cell_type": "markdown",
   "id": "1ada2033",
   "metadata": {},
   "source": [
    "##### we can use 2 predefined chanins for creating to final chains"
   ]
  },
  {
   "cell_type": "code",
   "execution_count": 12,
   "id": "5d45131a",
   "metadata": {},
   "outputs": [],
   "source": [
    "from langchain.chains import create_retrieval_chain\n",
    "from langchain.chains.combine_documents import create_stuff_documents_chain\n",
    "\n",
    "from langchain_core.prompts import ChatPromptTemplate"
   ]
  },
  {
   "cell_type": "code",
   "execution_count": 13,
   "id": "3984cae1",
   "metadata": {},
   "outputs": [],
   "source": [
    "system_prompt = (\n",
    "    \n",
    "    \"You are an assistant for question answering tasks. \"\n",
    "    \"use the following pieces of retrieved context to answer\"\n",
    "    \"The question. If you don't know the answer, say that you \"\n",
    "    \" don't know. Use three sentenses maximum and keep the answer concise.\"\n",
    "    \"{context}\"\n",
    "    \n",
    ")\n",
    "\n",
    "\n"
   ]
  },
  {
   "cell_type": "code",
   "execution_count": 14,
   "id": "695c75e2",
   "metadata": {},
   "outputs": [],
   "source": [
    "prompt = ChatPromptTemplate.from_messages(\n",
    "    \n",
    "    \n",
    "    [\n",
    "        (\"system\", system_prompt),\n",
    "        (\"human\", \"{input}\"),      \n",
    "        \n",
    "    ]\n",
    ")\n",
    "\n",
    "\n",
    "\n"
   ]
  },
  {
   "cell_type": "code",
   "execution_count": 31,
   "id": "4706b728",
   "metadata": {},
   "outputs": [],
   "source": [
    "question_answer_chain = create_stuff_documents_chain(llm, prompt)\n",
    "rag_chain =create_retrieval_chain(retriever,question_answer_chain)\n",
    "results = rag_chain.invoke({\"input\": \"What is Correlation?\"})"
   ]
  },
  {
   "cell_type": "code",
   "execution_count": 32,
   "id": "b0ca3c19",
   "metadata": {},
   "outputs": [
    {
     "data": {
      "text/plain": [
       "'Correlation is a statistical measure that expresses how two variables vary together, indicating the strength and direction of a linear relationship. Its coefficient ranges from –1 (perfect negative linear relationship) to +1 (perfect positive linear relationship), with 0 meaning no linear relationship. The value is used to identify relationships, make predictions, and develop causal models in many fields.'"
      ]
     },
     "execution_count": 32,
     "metadata": {},
     "output_type": "execute_result"
    }
   ],
   "source": [
    "results['answer']"
   ]
  }
 ],
 "metadata": {
  "kernelspec": {
   "display_name": "chatbot",
   "language": "python",
   "name": "python3"
  },
  "language_info": {
   "codemirror_mode": {
    "name": "ipython",
    "version": 3
   },
   "file_extension": ".py",
   "mimetype": "text/x-python",
   "name": "python",
   "nbconvert_exporter": "python",
   "pygments_lexer": "ipython3",
   "version": "3.11.13"
  }
 },
 "nbformat": 4,
 "nbformat_minor": 5
}
